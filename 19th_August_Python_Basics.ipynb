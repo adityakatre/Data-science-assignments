{
 "cells": [
  {
   "cell_type": "code",
   "execution_count": 4,
   "id": "a037fe36-7c66-4108-b46c-d364b55cd36c",
   "metadata": {},
   "outputs": [
    {
     "name": "stdout",
     "output_type": "stream",
     "text": [
      "the value of x =  20\n",
      "the value of y = 10\n"
     ]
    }
   ],
   "source": [
    "''' swip two variable without using variable '''\n",
    "x = 10 \n",
    "y = 20 \n",
    "''' adding the value of x and y and assign to x variable and then substract to get the swip variable '''\n",
    "x = x+y \n",
    "\n",
    "y = x-y\n",
    "x = x-y\n",
    "print(\"the value of x =\",x)\n",
    "print(\"the value of y =\",y)"
   ]
  },
  {
   "cell_type": "code",
   "execution_count": 6,
   "id": "73076fc8-7973-461e-beb4-3c2bae3ca5a7",
   "metadata": {},
   "outputs": [
    {
     "name": "stdin",
     "output_type": "stream",
     "text": [
      "enter width of rectangle = 10\n",
      "enter length of rectangle = 10\n"
     ]
    },
    {
     "name": "stdout",
     "output_type": "stream",
     "text": [
      "Area of rectangle is =  100\n"
     ]
    }
   ],
   "source": [
    "''' que 2 area of rectangle '''\n",
    "width  = int(input(\"enter width of rectangle =\"))\n",
    "length  = int(input(\"enter length of rectangle =\"))\n",
    "\n",
    "Area = width* length \n",
    "print(\"Area of rectangle is = \",Area)\n"
   ]
  },
  {
   "cell_type": "code",
   "execution_count": 12,
   "id": "db2696e3-d40c-4381-b9a1-24451f2542d0",
   "metadata": {},
   "outputs": [
    {
     "name": "stdin",
     "output_type": "stream",
     "text": [
      "Enter the TEMP in Celsius  32.2\n"
     ]
    },
    {
     "name": "stdout",
     "output_type": "stream",
     "text": [
      "TEMP in Fahrenheit  = 89.96000000000001\n"
     ]
    }
   ],
   "source": [
    "''' Que 3 temperatures from Celsius to Fahrenheit '''\n",
    "\n",
    "C = float(input(\"Enter the TEMP in Celsius \"))\n",
    "\n",
    "''' formula F = C *9/5 +32 '''\n",
    "\n",
    "F = float((C*9/5)+32)\n",
    "print(\"TEMP in Fahrenheit  =\",F)"
   ]
  },
  {
   "cell_type": "code",
   "execution_count": 1,
   "id": "e514693e-38be-4515-844b-bc9f9802175c",
   "metadata": {},
   "outputs": [
    {
     "data": {
      "text/plain": [
       "' string based question '"
      ]
     },
     "execution_count": 1,
     "metadata": {},
     "output_type": "execute_result"
    }
   ],
   "source": [
    "''' string based question '''"
   ]
  },
  {
   "cell_type": "code",
   "execution_count": 3,
   "id": "4a26e45d-9178-4bd9-9596-74025f43b9d9",
   "metadata": {},
   "outputs": [
    {
     "name": "stdin",
     "output_type": "stream",
     "text": [
      "enter the string  aditya\n"
     ]
    },
    {
     "name": "stdout",
     "output_type": "stream",
     "text": [
      "6\n"
     ]
    }
   ],
   "source": [
    "\"\"\" que 1 \"\"\"\n",
    "S = str(input(\"enter the string \"))\n",
    "print(len(S))\n"
   ]
  },
  {
   "cell_type": "code",
   "execution_count": 8,
   "id": "1b7907cc-9fcd-44f2-90fd-7d071598fceb",
   "metadata": {},
   "outputs": [
    {
     "name": "stdin",
     "output_type": "stream",
     "text": [
      "Enter the string aditya katre\n"
     ]
    },
    {
     "name": "stdout",
     "output_type": "stream",
     "text": [
      "a = 3 e = 1 i = 1 o = 0 u = 0\n"
     ]
    }
   ],
   "source": [
    "\"\"\" Que 2 \"\"\"\n",
    "S = str(input(\"Enter the string\"))\n",
    "a = S.count('a')\n",
    "e = S.count('e')\n",
    "i = S.count('i')\n",
    "o = S.count('o')\n",
    "u = S.count('u')\n",
    "print('a =',a,'e =',e,'i =',i,'o =',o,'u =',u)\n"
   ]
  },
  {
   "cell_type": "code",
   "execution_count": 40,
   "id": "2b3f48f1-b6ca-4160-a8aa-921bb68773a1",
   "metadata": {},
   "outputs": [
    {
     "name": "stdout",
     "output_type": "stream",
     "text": [
      "ertak aytida\n"
     ]
    }
   ],
   "source": [
    "\"\"\" Que 3\"\"\"\n",
    "S = \"aditya katre\"\n",
    "print(S[-1:-13:-1])"
   ]
  },
  {
   "cell_type": "code",
   "execution_count": null,
   "id": "9bcfe498-d9c7-466d-bc3a-d8dcef574be4",
   "metadata": {},
   "outputs": [],
   "source": []
  },
  {
   "cell_type": "code",
   "execution_count": 45,
   "id": "47379ac2-d968-405d-b620-89fea876c64d",
   "metadata": {},
   "outputs": [
    {
     "name": "stdin",
     "output_type": "stream",
     "text": [
      "Enter the string aditya\n"
     ]
    },
    {
     "name": "stdout",
     "output_type": "stream",
     "text": [
      "NO\n"
     ]
    }
   ],
   "source": [
    "\"\"\" Que 4 \"\"\"\n",
    "S= str(input(\"Enter the string\"))\n",
    "reverse= S[::-1]\n",
    "if S==reverse:\n",
    "    print(\"Yes\")\n",
    "else :\n",
    "    print(\"NO\")"
   ]
  },
  {
   "cell_type": "code",
   "execution_count": 46,
   "id": "a5323646-825c-4013-b5d9-924269cc27d3",
   "metadata": {},
   "outputs": [
    {
     "name": "stdin",
     "output_type": "stream",
     "text": [
      "Enter the string a d i t y a\n"
     ]
    },
    {
     "name": "stdout",
     "output_type": "stream",
     "text": [
      "aditya\n"
     ]
    }
   ],
   "source": [
    "\"\"\" Que 5 \"\"\"\n",
    "S = str(input(\"Enter the string\"))\n",
    "print(S.replace(\" \",\"\"))"
   ]
  },
  {
   "cell_type": "code",
   "execution_count": null,
   "id": "6b92762e-b121-478b-a99f-6f03683a9eae",
   "metadata": {},
   "outputs": [],
   "source": []
  }
 ],
 "metadata": {
  "kernelspec": {
   "display_name": "Python 3 (ipykernel)",
   "language": "python",
   "name": "python3"
  },
  "language_info": {
   "codemirror_mode": {
    "name": "ipython",
    "version": 3
   },
   "file_extension": ".py",
   "mimetype": "text/x-python",
   "name": "python",
   "nbconvert_exporter": "python",
   "pygments_lexer": "ipython3",
   "version": "3.10.8"
  }
 },
 "nbformat": 4,
 "nbformat_minor": 5
}
