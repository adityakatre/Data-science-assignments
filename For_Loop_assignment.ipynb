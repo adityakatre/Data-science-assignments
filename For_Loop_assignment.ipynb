{
 "cells": [
  {
   "cell_type": "code",
   "execution_count": 1,
   "id": "50f0d51e-ef75-45d0-bb8f-5b504ba4a473",
   "metadata": {},
   "outputs": [],
   "source": [
    "#Basic Level"
   ]
  },
  {
   "cell_type": "code",
   "execution_count": 3,
   "id": "1b4bd0ad-7e37-4e76-bf10-e84a41153c5c",
   "metadata": {},
   "outputs": [
    {
     "name": "stdout",
     "output_type": "stream",
     "text": [
      "1\n",
      "2\n",
      "3\n",
      "4\n",
      "5\n",
      "6\n",
      "7\n",
      "8\n",
      "9\n",
      "10\n"
     ]
    }
   ],
   "source": [
    "#Write a Python program to print the numbers from 1 to 10 using a `for` loop.\n",
    "\n",
    "for i in range(1,11):\n",
    "    print(i)"
   ]
  },
  {
   "cell_type": "code",
   "execution_count": 4,
   "id": "0553fbbb-7bcd-4a97-9c10-e5b046c1aa05",
   "metadata": {},
   "outputs": [
    {
     "name": "stdout",
     "output_type": "stream",
     "text": [
      "55\n"
     ]
    }
   ],
   "source": [
    "#Create a program that calculates the sum of all numbers in a list using a `for` loop.\n",
    "L1 = [1,2,3,4,5,6,7,8,9,10]\n",
    "Sum = 0\n",
    "for i in L1:\n",
    "    Sum = Sum + i\n",
    "print(Sum)\n",
    "    "
   ]
  },
  {
   "cell_type": "code",
   "execution_count": 10,
   "id": "4ec8dd36-a174-4745-b824-0c6a61721fe7",
   "metadata": {},
   "outputs": [
    {
     "name": "stdout",
     "output_type": "stream",
     "text": [
      "a\n",
      "y\n",
      "t\n",
      "i\n",
      "d\n",
      "a\n"
     ]
    }
   ],
   "source": [
    "#Write a program to print the characters of a string in reverse order using a `for` loop.\n",
    "s = 'aditya'\n",
    "\n",
    "for i in range(len(s)-1,-1,-1):\n",
    "    print(s[i])"
   ]
  },
  {
   "cell_type": "code",
   "execution_count": 13,
   "id": "3532d4ae-510c-4e5a-8b3a-cebee1805af3",
   "metadata": {},
   "outputs": [
    {
     "name": "stdout",
     "output_type": "stream",
     "text": [
      "5040\n"
     ]
    }
   ],
   "source": [
    "#Develop a program that finds the factorial of a given number using a `for` loop.\n",
    "Number = 7\n",
    "Factorial = 1\n",
    "for i in range(1,Number+1):\n",
    "    Factorial = Factorial * i\n",
    "print(Factorial)"
   ]
  },
  {
   "cell_type": "code",
   "execution_count": 14,
   "id": "8a30fa0e-7d57-4a92-8c00-790e3b1d0f2f",
   "metadata": {},
   "outputs": [
    {
     "name": "stdout",
     "output_type": "stream",
     "text": [
      "7\n",
      "14\n",
      "21\n",
      "28\n",
      "35\n",
      "42\n",
      "49\n",
      "56\n",
      "63\n",
      "70\n"
     ]
    }
   ],
   "source": [
    "#Create a program to print the multiplication table of a given number using a `for` loop.\n",
    "\n",
    "Given_NUM = 7\n",
    "\n",
    "for i in range(1,11):\n",
    "    Table = i*7\n",
    "    print(Table)\n",
    "    \n"
   ]
  },
  {
   "cell_type": "code",
   "execution_count": 17,
   "id": "107fc58d-f36b-48a0-a0f1-999a2b25f282",
   "metadata": {},
   "outputs": [
    {
     "name": "stdout",
     "output_type": "stream",
     "text": [
      "Even count in list 5\n",
      "Odd count in list 5\n"
     ]
    }
   ],
   "source": [
    "#Write a program that counts the number of even and odd numbers in a list using a `for` loop.\n",
    "\n",
    "List = [1,2,3,4,5,6,7,8,9,10]\n",
    "Even_count = 0\n",
    "Odd_count = 0\n",
    "for i in List:\n",
    "    if i%2 ==0:\n",
    "        Even_count +=1\n",
    "    else:\n",
    "        Odd_count +=1\n",
    "        \n",
    "print(\"Even count in list\",Even_count)\n",
    "print(\"Odd count in list\",Odd_count)"
   ]
  },
  {
   "cell_type": "code",
   "execution_count": 18,
   "id": "cd2600d1-79a3-424b-838f-5caff7114c98",
   "metadata": {},
   "outputs": [
    {
     "name": "stdout",
     "output_type": "stream",
     "text": [
      "Square of  1 is 1\n",
      "Square of  2 is 4\n",
      "Square of  3 is 9\n",
      "Square of  4 is 16\n",
      "Square of  5 is 25\n"
     ]
    }
   ],
   "source": [
    "#Develop a program that prints the squares of numbers from 1 to 5 using a `for` loop.\n",
    "\n",
    "for i in range(1,6):\n",
    "    Square = i*i\n",
    "    print(\"Square of \",i,\"is\",Square)"
   ]
  },
  {
   "cell_type": "code",
   "execution_count": 19,
   "id": "991f32ba-26d9-4dd3-99a2-26c549c44fb8",
   "metadata": {},
   "outputs": [
    {
     "name": "stdout",
     "output_type": "stream",
     "text": [
      "12\n"
     ]
    }
   ],
   "source": [
    "#Create a program to find the length of a string without using the `len()` function.Create a program to find the length of a string without using the `len()` function.\n",
    "s = \"Aditya katre\"\n",
    "count = 0\n",
    "for i in s:\n",
    "    count+=1\n",
    "print(count)\n"
   ]
  },
  {
   "cell_type": "code",
   "execution_count": 21,
   "id": "e75d0a86-8ce0-4417-87f1-224df6693c05",
   "metadata": {},
   "outputs": [
    {
     "name": "stdout",
     "output_type": "stream",
     "text": [
      "7.5\n"
     ]
    }
   ],
   "source": [
    "#Write a program that calculates the average of a list of numbers using a `for` loop.\n",
    "\n",
    "L1 = [5,6,7,8,9,10]\n",
    "Sum = 0\n",
    "for i in L1:\n",
    "    Sum = Sum + i\n",
    "\n",
    "Avearage = Sum/len(L1)\n",
    "print(Avearage)"
   ]
  },
  {
   "cell_type": "code",
   "execution_count": 23,
   "id": "59231c67-8ff5-4993-acec-3623e88a7673",
   "metadata": {},
   "outputs": [
    {
     "name": "stdout",
     "output_type": "stream",
     "text": [
      "[0, 1, 1, 2, 3, 5, 8, 13]\n"
     ]
    }
   ],
   "source": [
    "#Develop a program that prints the first `n` Fibonacci numbers using a `for` loop.\n",
    "L1 = [0,1]\n",
    "N = 7\n",
    "\n",
    "for i in range(2,N+1):\n",
    "    FAB = L1[i-1]+L1[i-2]\n",
    "    L1.append(FAB)\n",
    "print(L1)\n"
   ]
  },
  {
   "cell_type": "code",
   "execution_count": 1,
   "id": "bd7f0816-796f-4f6c-a275-0a0ce40fbdcb",
   "metadata": {},
   "outputs": [],
   "source": [
    "#Intermdiate Level\n"
   ]
  },
  {
   "cell_type": "code",
   "execution_count": 18,
   "id": "220eb65c-0eb9-45b4-988d-d4cc7363b452",
   "metadata": {},
   "outputs": [
    {
     "name": "stdout",
     "output_type": "stream",
     "text": [
      "2\n"
     ]
    }
   ],
   "source": [
    "#11. Write a program to check if a given list contains any duplicates using a `for` loop.\n",
    "L = [1,2,3,4,5,6,7,2]\n",
    "\n",
    "for i in range(len(L)):\n",
    "    for j in range(1+i,len(L)):\n",
    "        if(L[i]==L[j]):\n",
    "            print(L[i])\n",
    "            break\n",
    "        \n",
    "        \n",
    "       \n",
    "            \n"
   ]
  },
  {
   "cell_type": "code",
   "execution_count": 43,
   "id": "937c34cc-c1d8-4761-9570-a72a5f68547a",
   "metadata": {},
   "outputs": [
    {
     "name": "stdin",
     "output_type": "stream",
     "text": [
      "Please, Enter the Lowest Range Value:  1\n",
      "Please, Enter the Upper Range Value:  30\n"
     ]
    },
    {
     "name": "stdout",
     "output_type": "stream",
     "text": [
      "The Prime Numbers in the range are: \n",
      "1\n",
      "2\n",
      "3\n",
      "5\n",
      "7\n",
      "11\n",
      "13\n",
      "17\n",
      "19\n",
      "23\n",
      "29\n"
     ]
    }
   ],
   "source": [
    "#12. Create a program that prints the prime numbers in a given range using a `for` loop.\n",
    "\n",
    "lower_value = int(input (\"Please, Enter the Lowest Range Value: \"))  \n",
    "upper_value = int(input (\"Please, Enter the Upper Range Value: \"))  \n",
    "  \n",
    "print (\"The Prime Numbers in the range are: \")  \n",
    "for number in range (lower_value, upper_value + 1):    \n",
    "        for i in range (2, number):  \n",
    "            if (number % i) == 0:  \n",
    "                break  \n",
    "        else:  \n",
    "            print (number)"
   ]
  },
  {
   "cell_type": "code",
   "execution_count": 55,
   "id": "ce3218a4-dc36-4bec-a50b-df0fec7b77e5",
   "metadata": {},
   "outputs": [
    {
     "name": "stdin",
     "output_type": "stream",
     "text": [
      "Enter the string to count the vowels  aditya\n"
     ]
    },
    {
     "name": "stdout",
     "output_type": "stream",
     "text": [
      "A =  2 E =  0 I =  1 O = 0 U = 0\n"
     ]
    }
   ],
   "source": [
    "#13. Develop a program that counts the number of vowels in a string using a `for` loop.\n",
    "S = str(input(\"Enter the string to count the vowels \"))\n",
    "A = 0\n",
    "E = 0\n",
    "I = 0\n",
    "O = 0\n",
    "U = 0\n",
    "for i in S:\n",
    "    if(i==\"a\"):\n",
    "        A +=1\n",
    "    elif(i==\"e\"):\n",
    "        E +=1\n",
    "    elif(i==\"i\"):\n",
    "        I +=1\n",
    "    elif(i==\"o\"):\n",
    "        O +=1\n",
    "    elif(i==\"u\"):\n",
    "        U +=1\n",
    "print(\"A = \",A,\"E = \",E,\"I = \",I,\"O =\",O,\"U =\",U)"
   ]
  },
  {
   "cell_type": "code",
   "execution_count": 15,
   "id": "dd0d3a92-e64e-452a-9212-ebf713e45169",
   "metadata": {},
   "outputs": [
    {
     "name": "stdout",
     "output_type": "stream",
     "text": [
      "45\n"
     ]
    }
   ],
   "source": [
    "#14. Write a program to find the maximum element in a 2D list using a nested `for` loop.\n",
    "L = [[1, 2, 3,11], [12, 5, 6], [7,45, 8, 9]]\n",
    "Max = 0\n",
    "for i in range(len(L)):\n",
    "    for j in range(len(L)):\n",
    "        if Max <= L[i][j]:\n",
    "            Max = L[i][j]\n",
    "\n",
    "print(Max)\n",
    "        "
   ]
  },
  {
   "cell_type": "code",
   "execution_count": 17,
   "id": "acc04d80-6935-4abb-bbdd-1de2cc011850",
   "metadata": {},
   "outputs": [
    {
     "name": "stdout",
     "output_type": "stream",
     "text": [
      "[[1, 3, 11], [5, 6, 9], [7, 45, 9]]\n"
     ]
    }
   ],
   "source": [
    "#15. Create a program that removes all occurrences of a specific element from a list using a `for` loop.\n",
    "L = [[1, 12, 3,11], [12, 5, 6,9], [7,45, 12, 9]]\n",
    "   \n",
    "x = 12 \n",
    "for i in range(len(L)):\n",
    "    for j in range(len(L)):\n",
    "        if L[i][j] == x:\n",
    "            del L[i][j]\n",
    "print(L)            "
   ]
  },
  {
   "cell_type": "code",
   "execution_count": 21,
   "id": "b338919e-f3e1-47f6-91bd-4d2870cf1c47",
   "metadata": {},
   "outputs": [
    {
     "name": "stdout",
     "output_type": "stream",
     "text": [
      "1\n",
      "2\n",
      "3\n",
      "4\n",
      "5\n",
      "6\n",
      "7\n",
      "8\n",
      "9\n",
      "10\n",
      "\n",
      "\n",
      "2\n",
      "4\n",
      "6\n",
      "8\n",
      "10\n",
      "12\n",
      "14\n",
      "16\n",
      "18\n",
      "20\n",
      "\n",
      "\n",
      "3\n",
      "6\n",
      "9\n",
      "12\n",
      "15\n",
      "18\n",
      "21\n",
      "24\n",
      "27\n",
      "30\n",
      "\n",
      "\n",
      "4\n",
      "8\n",
      "12\n",
      "16\n",
      "20\n",
      "24\n",
      "28\n",
      "32\n",
      "36\n",
      "40\n",
      "\n",
      "\n",
      "5\n",
      "10\n",
      "15\n",
      "20\n",
      "25\n",
      "30\n",
      "35\n",
      "40\n",
      "45\n",
      "50\n",
      "\n",
      "\n"
     ]
    }
   ],
   "source": [
    "#16. Develop a program that generates a multiplication table for numbers from 1 to 5 using a nested `for` loop.\n",
    "\n",
    "for i in range(1,6):\n",
    "    for j in range(1,11):\n",
    "        print(i*j)\n",
    "    print(\"\\n\")    "
   ]
  },
  {
   "cell_type": "code",
   "execution_count": 23,
   "id": "b20379ee-aa95-43c7-8712-c28be3a21a46",
   "metadata": {},
   "outputs": [
    {
     "name": "stdout",
     "output_type": "stream",
     "text": [
      "[37.0, 40.0, 60.0, 70.0, 80.0, 90.0]\n"
     ]
    }
   ],
   "source": [
    "#17. Write a program that converts a list of Fahrenheit temperatures to Celsius using a `for` loop.\n",
    "#T(oC)   =  ((T(oF)  -  32  ) ×  5)/9\n",
    "\n",
    "Tf = [98.6 ,104.0,140.0,158.0,176.0,194.0]\n",
    "\n",
    "Tc = []\n",
    "\n",
    "for i in range(len(Tf)):\n",
    "    Temp = ((Tf[i] -32)*5)/9\n",
    "    Tc.append(Temp)\n",
    "print(Tc)"
   ]
  },
  {
   "cell_type": "code",
   "execution_count": null,
   "id": "411ceeed-7254-44e5-8373-5fb694a7c0be",
   "metadata": {},
   "outputs": [],
   "source": [
    "#18. Create a program to print the common elements from two lists using a `for` loop.\n",
    "\n",
    "list1 = [1, 2, 3, 4, 5]\n",
    "list2 = [5, 6, 7, 8, 9]\n",
    "\n",
    "result = [i for i in list1 if i in list2]\n",
    "\n",
    "print(result)\n"
   ]
  },
  {
   "cell_type": "code",
   "execution_count": 7,
   "id": "983d343e-8e10-4bbf-917c-b3baeb77efaf",
   "metadata": {},
   "outputs": [
    {
     "name": "stdout",
     "output_type": "stream",
     "text": [
      "*\n",
      "**\n",
      "***\n",
      "****\n",
      "*****\n",
      "******\n"
     ]
    }
   ],
   "source": [
    "#19. Develop a program that prints the pattern of right-angled triangles using a `for` loop. Use ‘*’ to draw the pattern\n",
    "\n",
    "\n",
    "for i in range(6):\n",
    "    for j in range(i+1):\n",
    "        print(\"*\",end='')\n",
    "    print(\"\")    "
   ]
  }
 ],
 "metadata": {
  "kernelspec": {
   "display_name": "Python 3 (ipykernel)",
   "language": "python",
   "name": "python3"
  },
  "language_info": {
   "codemirror_mode": {
    "name": "ipython",
    "version": 3
   },
   "file_extension": ".py",
   "mimetype": "text/x-python",
   "name": "python",
   "nbconvert_exporter": "python",
   "pygments_lexer": "ipython3",
   "version": "3.10.8"
  }
 },
 "nbformat": 4,
 "nbformat_minor": 5
}
