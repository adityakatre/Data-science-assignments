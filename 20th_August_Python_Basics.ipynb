{
 "cells": [
  {
   "cell_type": "code",
   "execution_count": 1,
   "id": "d31a5458-07f9-4ade-9dea-5cb428d0b47e",
   "metadata": {},
   "outputs": [
    {
     "name": "stdout",
     "output_type": "stream",
     "text": [
      "ertaK aytidA\n"
     ]
    }
   ],
   "source": [
    "s = \"Aditya Katre\"\n",
    "print(s[::-1])\n",
    "\n",
    "      \n"
   ]
  },
  {
   "cell_type": "code",
   "execution_count": 6,
   "id": "20002afc-7fe8-4e7f-a0b9-db6db29f98e1",
   "metadata": {},
   "outputs": [
    {
     "name": "stdin",
     "output_type": "stream",
     "text": [
      "enter a string for check palindrome  madam\n"
     ]
    },
    {
     "name": "stdout",
     "output_type": "stream",
     "text": [
      "it is palindraom \n"
     ]
    }
   ],
   "source": [
    "s = str(input(\"enter a string for check palindrome \"))\n",
    "R = s[::-1]\n",
    "if s == R:\n",
    "    print(\"it is palindraom \")\n",
    "else:\n",
    "    print(\"it isn't palindrom\")\n",
    "    \n"
   ]
  },
  {
   "cell_type": "code",
   "execution_count": 7,
   "id": "69b64242-3268-4fc9-9a20-737ff300decf",
   "metadata": {},
   "outputs": [
    {
     "name": "stdin",
     "output_type": "stream",
     "text": [
      "please enter string to convert it in uppercase  aditya\n"
     ]
    },
    {
     "name": "stdout",
     "output_type": "stream",
     "text": [
      "ADITYA\n"
     ]
    }
   ],
   "source": [
    "S = str(input(\"please enter string to convert it in uppercase \"))\n",
    "\n",
    "print(S.upper())\n"
   ]
  },
  {
   "cell_type": "code",
   "execution_count": 9,
   "id": "f3037e9d-6564-4b51-904f-bd099c218ac8",
   "metadata": {},
   "outputs": [
    {
     "name": "stdin",
     "output_type": "stream",
     "text": [
      "please enter string to convert it in lowercase ADITYA\n"
     ]
    },
    {
     "name": "stdout",
     "output_type": "stream",
     "text": [
      "aditya\n"
     ]
    }
   ],
   "source": [
    "S = str(input(\"please enter string to convert it in lowercase\"))\n",
    "print(S.lower())\n"
   ]
  },
  {
   "cell_type": "code",
   "execution_count": 10,
   "id": "e9bfe3c1-4a4b-423a-878c-9931f124b833",
   "metadata": {},
   "outputs": [
    {
     "name": "stdin",
     "output_type": "stream",
     "text": [
      "Enter the string Aditay\n"
     ]
    },
    {
     "name": "stdout",
     "output_type": "stream",
     "text": [
      "a = 1 e = 0 i = 1 o = 0 u = 0\n"
     ]
    }
   ],
   "source": [
    "S = str(input(\"Enter the string\"))\n",
    "a = S.count('a')\n",
    "e = S.count('e')\n",
    "i = S.count('i')\n",
    "o = S.count('o')\n",
    "u = S.count('u')\n",
    "print('a =',a,'e =',e,'i =',i,'o =',o,'u =',u)"
   ]
  },
  {
   "cell_type": "code",
   "execution_count": 11,
   "id": "a0722fb5-bfc2-44b9-9f55-8414822a453d",
   "metadata": {},
   "outputs": [
    {
     "name": "stdin",
     "output_type": "stream",
     "text": [
      "Enter the string to remove the widespace  aditya  katre\n"
     ]
    },
    {
     "name": "stdout",
     "output_type": "stream",
     "text": [
      "adityakatre\n"
     ]
    }
   ],
   "source": [
    "S = str(input(\"Enter the string to remove the whitespace \"))\n",
    "print(S.replace(\" \",\"\"))"
   ]
  },
  {
   "cell_type": "code",
   "execution_count": 12,
   "id": "242527ac-2982-4bf2-8b44-f2d8c4f34053",
   "metadata": {},
   "outputs": [
    {
     "name": "stdin",
     "output_type": "stream",
     "text": [
      "Enter the string to count the lenght without using len function Aditya\n"
     ]
    },
    {
     "name": "stdout",
     "output_type": "stream",
     "text": [
      "6\n"
     ]
    }
   ],
   "source": [
    "S = str(input(\"Enter the string to count the lenght without using len function\"))\n",
    "\n",
    "count = 0\n",
    "for i in S:\n",
    "    count+=1\n",
    "    \n",
    "print(count)"
   ]
  },
  {
   "cell_type": "code",
   "execution_count": 18,
   "id": "9ceeab09-b00a-4940-8fac-854560b12a50",
   "metadata": {},
   "outputs": [
    {
     "name": "stdin",
     "output_type": "stream",
     "text": [
      "check the specific word in the String  aditya is nice guy\n",
      "enter the word that you want to search in the string  guy\n"
     ]
    },
    {
     "name": "stdout",
     "output_type": "stream",
     "text": [
      "success\n"
     ]
    }
   ],
   "source": [
    "S = str(input(\"check the specific word in the String \"))\n",
    "SpecificWord = str(input(\"enter the word that you want to search in the string \"))\n",
    "\n",
    "if SpecificWord in S:\n",
    "    print(\"success\")\n",
    "else:\n",
    "    print(\"failuer\")"
   ]
  },
  {
   "cell_type": "code",
   "execution_count": 20,
   "id": "3c46facf-ff30-4530-96ec-b35403df9353",
   "metadata": {},
   "outputs": [
    {
     "name": "stdin",
     "output_type": "stream",
     "text": [
      "Enter the string with to Replace the Specific Word  Aditya is nice guy\n",
      "Enter the word you want to replace  nice\n",
      "Enter the word you want to replace with  cool\n"
     ]
    },
    {
     "name": "stdout",
     "output_type": "stream",
     "text": [
      "Aditya is cool guy\n"
     ]
    }
   ],
   "source": [
    "S = str(input(\"Enter the string with to Replace the Specific Word \"))\n",
    "Word = str(input(\"Enter the word you want to replace \"))\n",
    "ReplaceWord = str(input(\"Enter the word you want to replace with \"))\n",
    "\n",
    "print(S.replace(Word,ReplaceWord))\n"
   ]
  },
  {
   "cell_type": "code",
   "execution_count": 25,
   "id": "b2808816-7f3e-4b5f-8cff-3ede9435ceca",
   "metadata": {},
   "outputs": [
    {
     "name": "stdin",
     "output_type": "stream",
     "text": [
      "Enter the string to count the word  shivam or amol or aditya or anurag\n",
      "Enter Word to count or\n"
     ]
    },
    {
     "data": {
      "text/plain": [
       "3"
      ]
     },
     "execution_count": 25,
     "metadata": {},
     "output_type": "execute_result"
    }
   ],
   "source": [
    "S = str(input(\"Enter the string to count the word \"))\n",
    "Word = str(input(\"Enter Word to count\"))\n",
    "\n",
    "count = list(S.split())\n",
    "count.count(Word)"
   ]
  },
  {
   "cell_type": "code",
   "execution_count": 1,
   "id": "77240ab1-e896-4e23-894d-89188876421e",
   "metadata": {},
   "outputs": [
    {
     "name": "stdin",
     "output_type": "stream",
     "text": [
      "enter the string to find the first occurrence of the word aditya is good boy\n",
      "Enter a word  is\n"
     ]
    },
    {
     "data": {
      "text/plain": [
       "7"
      ]
     },
     "execution_count": 1,
     "metadata": {},
     "output_type": "execute_result"
    }
   ],
   "source": [
    "S = str(input(\"enter the string to find the first occurrence of the word\"))\n",
    "Word = str(input(\"Enter a word \"))\n",
    "\n",
    "S.find(Word)\n"
   ]
  },
  {
   "cell_type": "code",
   "execution_count": 2,
   "id": "d84d3566-7d41-427f-9453-ada2fb737baf",
   "metadata": {},
   "outputs": [
    {
     "name": "stdin",
     "output_type": "stream",
     "text": [
      "Enter the string to split it into list  nagpur pune mumbai delhi goa hydrabad Lucknow \n"
     ]
    },
    {
     "name": "stdout",
     "output_type": "stream",
     "text": [
      "['nagpur', 'pune', 'mumbai', 'delhi', 'goa', 'hydrabad', 'Lucknow']\n"
     ]
    }
   ],
   "source": [
    "S = str (input(\"Enter the string to split it into list \"))\n",
    "\n",
    "print(list(S.split()))"
   ]
  },
  {
   "cell_type": "code",
   "execution_count": 19,
   "id": "e96623b8-df03-4da8-8651-77e5fa229274",
   "metadata": {},
   "outputs": [
    {
     "name": "stdout",
     "output_type": "stream",
     "text": [
      "! you are How ! you are How  How are you ! How are you ! How are you ! How are you !\n"
     ]
    }
   ],
   "source": [
    "\n",
    "\n"
   ]
  },
  {
   "cell_type": "code",
   "execution_count": 20,
   "id": "7186cda6-dee3-4ce7-b4aa-7b2251e5cb6a",
   "metadata": {},
   "outputs": [
    {
     "name": "stdout",
     "output_type": "stream",
     "text": [
      "! you are How ! you are How  How are you ! How are you ! How are you ! How are you ! How are you !\n"
     ]
    }
   ],
   "source": [
    "L = [\"How\",\"are\",\"you\",\"!\"]\n",
    " \n",
    "\n",
    "for i in L:\n",
    "    s += \" \" + i \n",
    "print(s)   "
   ]
  },
  {
   "cell_type": "code",
   "execution_count": 3,
   "id": "7a9f50d0-2edd-4622-aca3-ee08393d9e69",
   "metadata": {},
   "outputs": [
    {
     "name": "stdout",
     "output_type": "stream",
     "text": [
      " How are you !\n"
     ]
    }
   ],
   "source": [
    "L = [\"How\",\"are\",\"you\",\"!\"]\n",
    " \n",
    "s = \"\"\n",
    "for i in L:\n",
    "    s =s+\" \" + i \n",
    "print(s)   "
   ]
  },
  {
   "cell_type": "code",
   "execution_count": 4,
   "id": "b7087cbc-8650-482e-bbbb-4f0a33c505fd",
   "metadata": {},
   "outputs": [
    {
     "data": {
      "text/plain": [
       "' List based problems '"
      ]
     },
     "execution_count": 4,
     "metadata": {},
     "output_type": "execute_result"
    }
   ],
   "source": [
    "\"\"\" List based problems \"\"\""
   ]
  },
  {
   "cell_type": "code",
   "execution_count": 6,
   "id": "e15e7b73-9eb1-44c0-baf6-8e369e64ff6f",
   "metadata": {},
   "outputs": [],
   "source": [
    "#Create a list with integers from 1 to 10\n",
    "L = [1,2,3,4,5,6,7,8,9,10]"
   ]
  },
  {
   "cell_type": "code",
   "execution_count": 7,
   "id": "7647ae3b-f7b0-4d2e-901a-407bc9277818",
   "metadata": {},
   "outputs": [
    {
     "name": "stdout",
     "output_type": "stream",
     "text": [
      "10\n"
     ]
    }
   ],
   "source": [
    "#Find the length of a list without using the `len()` function.\n",
    "count = 0\n",
    "for i in L:\n",
    "    count+=1\n",
    "print(count)\n",
    "    "
   ]
  },
  {
   "cell_type": "code",
   "execution_count": 8,
   "id": "185c3d56-55d6-49c9-bd60-f340b0504b11",
   "metadata": {},
   "outputs": [
    {
     "name": "stdout",
     "output_type": "stream",
     "text": [
      "['Mumbai', 'Pune', 'Nagpur', 'gao']\n"
     ]
    }
   ],
   "source": [
    "#Append an element to the end of a list.\n",
    "city = [\"Mumbai\",\"Pune\",\"Nagpur\"]\n",
    "city.append(\"gao\")\n",
    "print(city)"
   ]
  },
  {
   "cell_type": "code",
   "execution_count": 13,
   "id": "bd8da462-1795-4f77-aa57-c478b8a51b37",
   "metadata": {},
   "outputs": [
    {
     "name": "stdin",
     "output_type": "stream",
     "text": [
      "enter the index where you want to make change 1 \n",
      "enter the new city name tha you want to insert mumbai\n"
     ]
    },
    {
     "name": "stdout",
     "output_type": "stream",
     "text": [
      "['indore', 'mumbai', 'chennai', 'Pune', 'Nagpur', 'gao']\n"
     ]
    }
   ],
   "source": [
    "#Insert an element at a specific index in a list.\n",
    "index = int(input(\"enter the index where you want to make change\"))\n",
    "newcity = str(input(\"enter the new city name tha you want to insert\"))\n",
    "city.insert(index,newcity)\n",
    "print(city)"
   ]
  },
  {
   "cell_type": "code",
   "execution_count": 20,
   "id": "265181dd-5f23-4429-a52c-471dcfb4cfc3",
   "metadata": {},
   "outputs": [
    {
     "name": "stdin",
     "output_type": "stream",
     "text": [
      "Enter the name of the which you want to remove form the List Pune\n"
     ]
    },
    {
     "name": "stdout",
     "output_type": "stream",
     "text": [
      "['chennai', 'Nagpur', 'gao']\n"
     ]
    }
   ],
   "source": [
    "#Remove an element from a list by its value.\n",
    "RemoveCity = str(input(\"Enter the name of the which you want to remove form the List\"))\n",
    "city.remove(RemoveCity)\n",
    "print(city)"
   ]
  },
  {
   "cell_type": "code",
   "execution_count": 21,
   "id": "e60535bb-ca2b-4980-804e-6833425b3fd1",
   "metadata": {},
   "outputs": [
    {
     "name": "stdin",
     "output_type": "stream",
     "text": [
      "Enter the index value of a city which you want to remove 0\n"
     ]
    },
    {
     "name": "stdout",
     "output_type": "stream",
     "text": [
      "['Nagpur', 'gao']\n"
     ]
    }
   ],
   "source": [
    "#Remove an element from a list by its index.\n",
    "index = int(input(\"Enter the index value of a city which you want to remove\"))\n",
    "del city[index]\n",
    "print(city)\n"
   ]
  },
  {
   "cell_type": "code",
   "execution_count": 26,
   "id": "213d2eb4-1788-4a60-a697-9b713c2e2dcf",
   "metadata": {},
   "outputs": [
    {
     "name": "stdin",
     "output_type": "stream",
     "text": [
      "Enter the Country name to check it is on the list or not  pakistan\n"
     ]
    }
   ],
   "source": [
    "#Check if an element exists in a list.\n",
    "Country = [\"india\",\"usa\",\"canada\",\"nepal\",\"sri lanka\",\"brazil\",\"turkey\",\"france\"]\n",
    "Element = str(input(\"Enter the Country name to check it is on the list or not \"))\n",
    "\n",
    "for i in Country:\n",
    "    if(Element == i):\n",
    "        print(\"it is in the list\")\n",
    "        break\n",
    "   \n",
    "    "
   ]
  },
  {
   "cell_type": "code",
   "execution_count": 1,
   "id": "85fe6a1b-ff73-434a-a352-8173165024ce",
   "metadata": {},
   "outputs": [
    {
     "name": "stdin",
     "output_type": "stream",
     "text": [
      "Enter the Country name to check it is on the list or not  france\n"
     ]
    },
    {
     "name": "stdout",
     "output_type": "stream",
     "text": [
      "search succesfull\n"
     ]
    }
   ],
   "source": [
    "#Check if an element exists in a list.\n",
    "Country = [\"india\",\"usa\",\"canada\",\"nepal\",\"sri lanka\",\"brazil\",\"turkey\",\"france\"]\n",
    "Element = str(input(\"Enter the Country name to check it is on the list or not \"))\n",
    "\n",
    "if Element in Country:\n",
    "    print(\"search succesfull\")\n",
    "else:\n",
    "    print(\"search fail\")\n",
    "   "
   ]
  },
  {
   "cell_type": "code",
   "execution_count": 2,
   "id": "563dd79d-766d-4a51-8913-8aa53ba3d642",
   "metadata": {},
   "outputs": [
    {
     "name": "stdin",
     "output_type": "stream",
     "text": [
      "Enter the Country name usa\n"
     ]
    },
    {
     "name": "stdout",
     "output_type": "stream",
     "text": [
      "1\n"
     ]
    }
   ],
   "source": [
    "#Find the index of the first occurrence of an element in a list.\n",
    "Country = [\"india\",\"usa\",\"canada\",\"nepal\",\"sri lanka\",\"brazil\",\"turkey\",\"france\", \"usa\"]\n",
    "Element = str(input(\"Enter the Country name\"))\n",
    "print(Country.index(Element))"
   ]
  },
  {
   "cell_type": "code",
   "execution_count": 7,
   "id": "d54e9cde-259d-4c0d-a4d2-9d83bd16fa25",
   "metadata": {},
   "outputs": [
    {
     "name": "stdin",
     "output_type": "stream",
     "text": [
      "Enter the Country name usa\n"
     ]
    },
    {
     "data": {
      "text/plain": [
       "2"
      ]
     },
     "execution_count": 7,
     "metadata": {},
     "output_type": "execute_result"
    }
   ],
   "source": [
    "#Count the occurrences of an element in a list.\n",
    "Country = [\"india\",\"usa\",\"canada\",\"nepal\",\"sri lanka\",\"brazil\",\"turkey\",\"france\", \"usa\"]\n",
    "Element = str(input(\"Enter the Country name\"))\n",
    "Country.count(Element)"
   ]
  },
  {
   "cell_type": "code",
   "execution_count": 11,
   "id": "7bf9fc64-8e2c-4164-9610-74fb1406412a",
   "metadata": {},
   "outputs": [
    {
     "name": "stdout",
     "output_type": "stream",
     "text": [
      "['usa', 'france', 'turkey', 'brazil', 'sri lanka', 'nepal', 'canada', 'usa', 'india']\n"
     ]
    }
   ],
   "source": [
    "#Reverse the order of elements in a list.\n",
    "Country = [\"india\",\"usa\",\"canada\",\"nepal\",\"sri lanka\",\"brazil\",\"turkey\",\"france\", \"usa\"]\n",
    "ReverseCountry = list(reversed(Country))\n",
    "print(ReverseCountry)"
   ]
  },
  {
   "cell_type": "code",
   "execution_count": 15,
   "id": "f7b9156e-03a6-4caf-b521-a7b9cc3bff73",
   "metadata": {},
   "outputs": [
    {
     "name": "stdout",
     "output_type": "stream",
     "text": [
      "[1, 2, 3, 5, 6, 8, 9]\n"
     ]
    }
   ],
   "source": [
    "#Sort a list in ascending order.\n",
    "L1 = [2,9,3,1,6,8,5]\n",
    "L1.sort()\n",
    "print(L1)"
   ]
  },
  {
   "cell_type": "code",
   "execution_count": 18,
   "id": "cc7988cb-91b5-473d-9459-be755f4117c6",
   "metadata": {},
   "outputs": [
    {
     "name": "stdout",
     "output_type": "stream",
     "text": [
      "[9, 8, 6, 5, 3, 2, 1]\n"
     ]
    }
   ],
   "source": [
    "#Sort a list in descending order.\n",
    "L1 = [2,9,3,1,6,8,5]\n",
    "L1.sort(reverse=True)\n",
    "print(L1)\n"
   ]
  },
  {
   "cell_type": "code",
   "execution_count": 28,
   "id": "eb399873-2185-4cea-903c-f5e3df923e37",
   "metadata": {},
   "outputs": [
    {
     "name": "stdout",
     "output_type": "stream",
     "text": [
      "[0, 2, 4, 6, 8, 10, 12, 14, 16, 18, 20]\n"
     ]
    }
   ],
   "source": [
    "#Create a list of even numbers from 1 to 20.\n",
    "even_number = []\n",
    "for i in range(0,21):\n",
    "    if i%2 == 0:\n",
    "        even_number.append(i)\n",
    "\n",
    "print(even_number)\n"
   ]
  },
  {
   "cell_type": "code",
   "execution_count": 29,
   "id": "e7fa3524-e95a-4fda-ad01-649f72bbc253",
   "metadata": {},
   "outputs": [
    {
     "name": "stdout",
     "output_type": "stream",
     "text": [
      "[1, 3, 5, 7, 9, 11, 13, 15, 17, 19]\n"
     ]
    }
   ],
   "source": [
    "#Create a list of odd numbers from 1 to 20.\n",
    "old_number = []\n",
    "for i in range(0,21):\n",
    "    if i%2 !=0:\n",
    "        old_number.append(i)\n",
    "\n",
    "print(old_number)\n"
   ]
  },
  {
   "cell_type": "code",
   "execution_count": 31,
   "id": "73795c0f-c729-4acb-aec3-df4b0e95742f",
   "metadata": {},
   "outputs": [
    {
     "name": "stdout",
     "output_type": "stream",
     "text": [
      "45\n"
     ]
    }
   ],
   "source": [
    "#Find the sum of all elements in a list.\n",
    "Element = [1,2,3,4,5,6,7,8,9]\n",
    "SumOfElement = 0\n",
    "for i in Element:\n",
    "    SumOfElement+=i\n",
    "print(SumOfElement)\n",
    "    "
   ]
  },
  {
   "cell_type": "code",
   "execution_count": 1,
   "id": "f8f6c874-0f11-4c30-9c18-323b2518aac8",
   "metadata": {},
   "outputs": [
    {
     "name": "stdout",
     "output_type": "stream",
     "text": [
      "49\n"
     ]
    }
   ],
   "source": [
    "# the maximum value in a list\n",
    "Element = [1,2,3,49,4,5,7]\n",
    "max_element = max(Element)\n",
    "print(max_element)"
   ]
  },
  {
   "cell_type": "code",
   "execution_count": 2,
   "id": "c613f0a4-3609-4056-b535-2644a612614b",
   "metadata": {},
   "outputs": [
    {
     "name": "stdout",
     "output_type": "stream",
     "text": [
      "1\n"
     ]
    }
   ],
   "source": [
    "#Find the minimum value in a list.\n",
    "min_element = min(Element)\n",
    "print(min_element)"
   ]
  },
  {
   "cell_type": "code",
   "execution_count": 4,
   "id": "b0bfacff-535a-4dc0-987d-4ceb0b11454a",
   "metadata": {},
   "outputs": [
    {
     "name": "stdout",
     "output_type": "stream",
     "text": [
      "[1, 4, 9, 16, 25, 36, 49, 64, 81, 100]\n"
     ]
    }
   ],
   "source": [
    "#Find the minimum value in a list.\n",
    "Square_number = []\n",
    "for i in range(1,11):\n",
    "    Square_number.append(i*i)\n",
    "print(Square_number)"
   ]
  },
  {
   "cell_type": "code",
   "execution_count": 5,
   "id": "48eab3b7-1121-49fa-ba6d-572abc04f8dc",
   "metadata": {},
   "outputs": [
    {
     "name": "stdout",
     "output_type": "stream",
     "text": [
      "[1, 2, 3, 4, 5, 6, 7, 8]\n"
     ]
    }
   ],
   "source": [
    "#Remove duplicates from a list.\n",
    "List = [1,2,3,4,1,2,5,6,7,8]\n",
    "\n",
    "List = list(set(List))\n",
    "print(List)"
   ]
  },
  {
   "cell_type": "code",
   "execution_count": 9,
   "id": "fd7ce1bc-8afd-4a20-a8ab-843b9cf64afa",
   "metadata": {},
   "outputs": [
    {
     "name": "stdout",
     "output_type": "stream",
     "text": [
      "{5, 6}\n"
     ]
    }
   ],
   "source": [
    "# Find the common elements between two lists.\n",
    "L1 = [1,2,3,5,6]\n",
    "L2 = [5,6,7,8,8]\n",
    "\n",
    "L1_set = set(L1)\n",
    "L2_set = set(L2)\n",
    "\n",
    "if(L1_set & L2_set):\n",
    "    print(L1_set & L2_set)\n",
    "else:\n",
    "    print(\"no common element\")"
   ]
  },
  {
   "cell_type": "code",
   "execution_count": 11,
   "id": "74024af5-568a-4613-bc9f-fb0f1471235a",
   "metadata": {},
   "outputs": [
    {
     "name": "stdout",
     "output_type": "stream",
     "text": [
      "[8, 7]\n"
     ]
    }
   ],
   "source": [
    "#Find the difference between two lists.\n",
    "difference = list(set(L2)-set(L1))\n",
    "print(difference)"
   ]
  },
  {
   "cell_type": "code",
   "execution_count": 12,
   "id": "15ffa162-d099-4e78-950b-e5134b4aad75",
   "metadata": {},
   "outputs": [
    {
     "name": "stdout",
     "output_type": "stream",
     "text": [
      "[1, 2, 3, 5, 6, 5, 6, 7, 8, 8]\n"
     ]
    }
   ],
   "source": [
    "#Merge two lists\n",
    "List_Sum = L1+L2\n",
    "print(List_Sum)"
   ]
  },
  {
   "cell_type": "code",
   "execution_count": 17,
   "id": "a10e36c2-2ea8-46a5-abab-ac8b695855cc",
   "metadata": {},
   "outputs": [
    {
     "name": "stdout",
     "output_type": "stream",
     "text": [
      "2\n",
      "4\n",
      "6\n",
      "8\n",
      "10\n",
      "12\n",
      "14\n",
      "16\n",
      "18\n",
      "20\n"
     ]
    }
   ],
   "source": [
    "#Multiply all elements in a list by 2.\n",
    "L1 = [1,2,3,4,5,6,7,8,9,10]\n",
    "\n",
    "for i in L1:\n",
    "    x = i*2\n",
    "    print(x)"
   ]
  },
  {
   "cell_type": "code",
   "execution_count": 19,
   "id": "8a98f817-c887-4419-8f44-02817d90606b",
   "metadata": {},
   "outputs": [
    {
     "name": "stdout",
     "output_type": "stream",
     "text": [
      "[0, 2, 4, 6, 8, 10]\n"
     ]
    }
   ],
   "source": [
    "#Filter out all even numbers from a list.\n",
    "L1 = [0,1,2,3,4,5,6,7,8,9,10]\n",
    "\n",
    "for i in L1:\n",
    "    if(i%2 != 0):\n",
    "         L1.remove(i)\n",
    "print(L1)\n",
    "    "
   ]
  },
  {
   "cell_type": "code",
   "execution_count": 21,
   "id": "40c14c23-f912-478a-8513-4daff77aca39",
   "metadata": {},
   "outputs": [
    {
     "name": "stdout",
     "output_type": "stream",
     "text": [
      "[1, -4, 3, -6, 7]\n"
     ]
    }
   ],
   "source": [
    "#Convert a list of strings to a list of integers.\n",
    "L1 = ['1', '-4', '3', '-6', '7']\n",
    "\n",
    "int_list = list(map(int,L1))\n",
    "print(int_list)"
   ]
  },
  {
   "cell_type": "code",
   "execution_count": 22,
   "id": "5225a793-0da1-4313-af4a-1dc12f9e207e",
   "metadata": {},
   "outputs": [
    {
     "name": "stdout",
     "output_type": "stream",
     "text": [
      "['1', '-4', '3', '-6', '7']\n"
     ]
    }
   ],
   "source": [
    "#Convert a list of integers to a list of strings.\n",
    "str_list = list(map(str,L1))\n",
    "print(str_list)"
   ]
  },
  {
   "cell_type": "code",
   "execution_count": 23,
   "id": "941c2b08-cbc1-4c74-adb8-4504f06f2aee",
   "metadata": {},
   "outputs": [
    {
     "name": "stdout",
     "output_type": "stream",
     "text": [
      "[1, 2, 3, 4, 5, 6, 7]\n"
     ]
    }
   ],
   "source": [
    "#Flatten a nested list.\n",
    "Unflatten_list = [[1], [2, 3], [4, 5, 6, 7]]\n",
    "flat_list = [num for sublist in Unflatten_list for num in sublist]\n",
    "print(flat_list)"
   ]
  },
  {
   "cell_type": "code",
   "execution_count": 2,
   "id": "85a9f9b8-2256-443d-89ff-ec97ca946039",
   "metadata": {},
   "outputs": [
    {
     "name": "stdout",
     "output_type": "stream",
     "text": [
      "[0, 1, 1, 2, 3, 5, 8, 13, 21, 34]\n"
     ]
    }
   ],
   "source": [
    "#Create a list of the first 10 Fibonacci numbers.\n",
    "fibonacci = [0,1]\n",
    "\n",
    "for i in range(2,10):\n",
    "    fibonacci.append(fibonacci[i-1]+fibonacci[i-2])\n",
    "    \n",
    "print(fibonacci)"
   ]
  },
  {
   "cell_type": "code",
   "execution_count": 3,
   "id": "f69c4bc8-21f3-4c3c-8b57-13d9dd8130ef",
   "metadata": {},
   "outputs": [],
   "source": [
    "#Tuple Based Practice Problem"
   ]
  },
  {
   "cell_type": "code",
   "execution_count": 5,
   "id": "5bf86594-4bca-4a72-a107-0b4deef8c808",
   "metadata": {},
   "outputs": [
    {
     "name": "stdout",
     "output_type": "stream",
     "text": [
      "(1, 2, 3, 4, 5)\n"
     ]
    }
   ],
   "source": [
    "#Create a tuple with integers from 1 to 5.\n",
    "int_tuple = (1,2,3,4,5)\n",
    "print(int_tuple)\n"
   ]
  },
  {
   "cell_type": "code",
   "execution_count": 6,
   "id": "7ae4f823-d04a-41d9-97b3-49fcbf491ae2",
   "metadata": {},
   "outputs": [
    {
     "name": "stdout",
     "output_type": "stream",
     "text": [
      "3\n"
     ]
    }
   ],
   "source": [
    "#Access the third element of a tuple.\n",
    "print(int_tuple[2])"
   ]
  },
  {
   "cell_type": "code",
   "execution_count": 8,
   "id": "13599f01-61f1-45e4-9256-4008916e798d",
   "metadata": {},
   "outputs": [
    {
     "name": "stdout",
     "output_type": "stream",
     "text": [
      "5\n"
     ]
    }
   ],
   "source": [
    "#Find the length of a tuple without using the `len()` function.\n",
    "count = 0\n",
    "for i in int_tuple:\n",
    "    count+=1\n",
    "print(count)"
   ]
  },
  {
   "cell_type": "code",
   "execution_count": 9,
   "id": "a4231d7d-60db-4cbd-ad0f-a33169172106",
   "metadata": {},
   "outputs": [
    {
     "name": "stdout",
     "output_type": "stream",
     "text": [
      "3\n"
     ]
    }
   ],
   "source": [
    "#Count the occurrences of an element in a tuple.\n",
    "Tuple = (10,20,30,40,50,70,20,40,20)\n",
    "\n",
    "element=20\n",
    "count = 0\n",
    "\n",
    "for i in Tuple:\n",
    "    if element == i:\n",
    "        count+=1\n",
    "        \n",
    "print(count)"
   ]
  },
  {
   "cell_type": "code",
   "execution_count": 11,
   "id": "d390e45d-525b-420f-9ce5-d69714f8b656",
   "metadata": {},
   "outputs": [
    {
     "name": "stdout",
     "output_type": "stream",
     "text": [
      "4\n"
     ]
    }
   ],
   "source": [
    "#Find the index of the first occurrence of an element in a tuple.\n",
    "element = 50\n",
    "\n",
    "for i,item in enumerate(Tuple):\n",
    "    if item == element:\n",
    "        print(i)\n",
    "        break\n",
    "        "
   ]
  },
  {
   "cell_type": "code",
   "execution_count": 18,
   "id": "6885f1eb-4b42-45d0-a4f9-2b11a5f4205c",
   "metadata": {},
   "outputs": [
    {
     "name": "stdout",
     "output_type": "stream",
     "text": [
      "element exist \n"
     ]
    }
   ],
   "source": [
    "element = 70\n",
    "\n",
    "if element in Tuple:\n",
    "    print(\"element exist \")\n",
    "else:\n",
    "    print(\"element not exist\")"
   ]
  },
  {
   "cell_type": "code",
   "execution_count": 20,
   "id": "984e5f54-b222-4bfa-a579-b903e4d47d7c",
   "metadata": {},
   "outputs": [
    {
     "name": "stdout",
     "output_type": "stream",
     "text": [
      "[10, 20, 30, 40, 50, 70, 20, 40, 20]\n"
     ]
    }
   ],
   "source": [
    "#Convert a tuple to a list.\n",
    "NewList = list(Tuple)\n",
    "print(NewList)"
   ]
  },
  {
   "cell_type": "code",
   "execution_count": 22,
   "id": "b7f76655-806b-418a-b15e-3c035655614b",
   "metadata": {},
   "outputs": [
    {
     "name": "stdout",
     "output_type": "stream",
     "text": [
      "(10, 20, 30, 40, 50, 70, 20, 40, 20)\n"
     ]
    }
   ],
   "source": [
    "#Convert a list to a tuple.\n",
    "Tuple = tuple(NewList)\n",
    "print(Tuple)"
   ]
  },
  {
   "cell_type": "code",
   "execution_count": 24,
   "id": "18052eb1-ade1-4aad-93e3-2599e51eb8ed",
   "metadata": {},
   "outputs": [
    {
     "name": "stdout",
     "output_type": "stream",
     "text": [
      "20\n"
     ]
    }
   ],
   "source": [
    "#Unpack the elements of a tuple into variables\n",
    "Varible_Tuple = (10,20,30)\n",
    "var1,var2,var3 = Varible_Tuple\n",
    "print(var2)\n"
   ]
  },
  {
   "cell_type": "code",
   "execution_count": null,
   "id": "1527dad8-b2cb-4953-a678-713d2ef5c6e1",
   "metadata": {},
   "outputs": [],
   "source": []
  }
 ],
 "metadata": {
  "kernelspec": {
   "display_name": "Python 3 (ipykernel)",
   "language": "python",
   "name": "python3"
  },
  "language_info": {
   "codemirror_mode": {
    "name": "ipython",
    "version": 3
   },
   "file_extension": ".py",
   "mimetype": "text/x-python",
   "name": "python",
   "nbconvert_exporter": "python",
   "pygments_lexer": "ipython3",
   "version": "3.10.8"
  }
 },
 "nbformat": 4,
 "nbformat_minor": 5
}
