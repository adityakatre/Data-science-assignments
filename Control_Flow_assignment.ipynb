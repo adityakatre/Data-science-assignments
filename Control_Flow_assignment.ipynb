{
 "cells": [
  {
   "cell_type": "code",
   "execution_count": 1,
   "id": "8de43ec4-703f-4ecb-a482-2b1bfbc5eaaa",
   "metadata": {},
   "outputs": [],
   "source": [
    "#Basic if-Else statements"
   ]
  },
  {
   "cell_type": "code",
   "execution_count": 5,
   "id": "dc77e169-2094-4a4b-9ee4-8c250b7c5ae0",
   "metadata": {},
   "outputs": [
    {
     "name": "stdin",
     "output_type": "stream",
     "text": [
      "enter any number to check wherether it is positive or negative 0\n"
     ]
    },
    {
     "name": "stdout",
     "output_type": "stream",
     "text": [
      "positive\n"
     ]
    }
   ],
   "source": [
    "#1. Write a Python program to check if a given number is positive or negative.\n",
    "X = int(input(\"enter any number to check whether it is positive or negative\"))\n",
    "\n",
    "if X >= 0:\n",
    "    print(\"positive\")\n",
    "else:\n",
    "    print(\"negative\")"
   ]
  },
  {
   "cell_type": "code",
   "execution_count": 7,
   "id": "1157ece7-417e-4088-822a-ab5577d9e77c",
   "metadata": {},
   "outputs": [
    {
     "name": "stdin",
     "output_type": "stream",
     "text": [
      "enter the age of the person 18\n"
     ]
    },
    {
     "name": "stdout",
     "output_type": "stream",
     "text": [
      "eligible to vote \n"
     ]
    }
   ],
   "source": [
    "#2. Create a program that determines if a person is eligible to vote based on their age.\n",
    "X = int(input(\"enter the age of the person\"))\n",
    "\n",
    "if X>=18:\n",
    "    print(\"eligible to vote \")\n",
    "else:\n",
    "    print(\"not eligible\")"
   ]
  },
  {
   "cell_type": "code",
   "execution_count": 8,
   "id": "1d5322fe-9994-4069-bc04-4d4210c6039a",
   "metadata": {},
   "outputs": [
    {
     "name": "stdout",
     "output_type": "stream",
     "text": [
      "Y is the greater number\n"
     ]
    }
   ],
   "source": [
    "#3. Develop a program to find the maximum of two numbers using if-else statements.\n",
    "\n",
    "x = 15 \n",
    "y = 16\n",
    "\n",
    "if x>y:\n",
    "    print(\"X is the greater number\")\n",
    "else:\n",
    "    print(\"Y is the greater number\")"
   ]
  },
  {
   "cell_type": "code",
   "execution_count": 12,
   "id": "a292a7e0-c4c0-4907-98c6-da9e36cba560",
   "metadata": {},
   "outputs": [
    {
     "name": "stdin",
     "output_type": "stream",
     "text": [
      "enter the year to check that it is leap year or not 2028\n"
     ]
    },
    {
     "name": "stdout",
     "output_type": "stream",
     "text": [
      "it is leap year \n"
     ]
    }
   ],
   "source": [
    "#4. Write a Python script to classify a given year as a leap year or not.\n",
    "\n",
    "X = int(input(\"enter the year to check that it is leap year or not\"))\n",
    "\n",
    "if X%4==0:\n",
    "    print(\"it is leap year \")\n",
    "else: \n",
    "    print(\"it not leap year\")\n"
   ]
  },
  {
   "cell_type": "code",
   "execution_count": 13,
   "id": "a0e7d303-2fbc-42e7-8fbe-9252ac0bd44c",
   "metadata": {},
   "outputs": [
    {
     "name": "stdout",
     "output_type": "stream",
     "text": [
      "give character is not vowel\n"
     ]
    }
   ],
   "source": [
    "#5. Create a program that checks whether a character is a vowel or a consonant.\n",
    "x = \"z\"\n",
    "if x == \"a\" or x == \"e\" or x ==\"i\" or x == \"o\" or x == \"u\":\n",
    "    print(\"give character is vowel\")\n",
    "else: \n",
    "    print(\"give character is not vowel\")\n"
   ]
  },
  {
   "cell_type": "code",
   "execution_count": 14,
   "id": "03d8af20-a431-4009-827b-4c2d0ead4851",
   "metadata": {},
   "outputs": [
    {
     "name": "stdout",
     "output_type": "stream",
     "text": [
      "give number is odd\n"
     ]
    }
   ],
   "source": [
    "#6. Implement a program to determine whether a given number is even or odd.\n",
    "\n",
    "x = 13\n",
    "\n",
    "if x%2 == 0:\n",
    "    print(\"given number is even\")\n",
    "else:\n",
    "    print(\"give number is odd\")"
   ]
  },
  {
   "cell_type": "code",
   "execution_count": 15,
   "id": "18171761-0951-49fb-9cec-56455f3b5489",
   "metadata": {},
   "outputs": [
    {
     "name": "stdout",
     "output_type": "stream",
     "text": [
      "4\n"
     ]
    }
   ],
   "source": [
    "#7. Write a Python function to calculate the absolute value of a number without using the `abs()` function.\n",
    "\n",
    "x = -4\n",
    "\n",
    "if x<0:\n",
    "    x = x * -1\n",
    "\n",
    "print(x)"
   ]
  },
  {
   "cell_type": "code",
   "execution_count": 18,
   "id": "32d4a308-280b-476e-b379-789536293450",
   "metadata": {},
   "outputs": [
    {
     "name": "stdout",
     "output_type": "stream",
     "text": [
      "z is larget number  2\n"
     ]
    }
   ],
   "source": [
    "# 8. Develop a program that determines the largest of three given numbers using if-else statements.x \n",
    "\n",
    "x = 11 \n",
    "y = 14 \n",
    "z = 18\n",
    "\n",
    "if x > y:\n",
    "    if x>z:\n",
    "        print(\"x is largest number\")\n",
    "    else:\n",
    "        print(\"z is largest number 1\")\n",
    "else:\n",
    "    if y > z:\n",
    "        print(\"y is largest number\")\n",
    "    else:\n",
    "        print(\"z is larget number  2\")\n",
    "        \n",
    "    \n",
    "\n"
   ]
  },
  {
   "cell_type": "code",
   "execution_count": 19,
   "id": "bb6b1271-bb06-495a-8e7f-cb6dd242f88e",
   "metadata": {},
   "outputs": [
    {
     "name": "stdout",
     "output_type": "stream",
     "text": [
      "it is palindrom\n"
     ]
    }
   ],
   "source": [
    "#9. Create a program that checks if a given string is a palindrome.\n",
    "\n",
    "s = \"madam\"\n",
    "\n",
    "if s[::-1] == s:\n",
    "    print(\"it is palindrom\")\n",
    "else:\n",
    "    print(\"it is not palindrom\")"
   ]
  },
  {
   "cell_type": "code",
   "execution_count": 24,
   "id": "44d713dc-1aa8-49a9-8154-3e90c5417c0a",
   "metadata": {},
   "outputs": [
    {
     "name": "stdout",
     "output_type": "stream",
     "text": [
      "you are getting C\n"
     ]
    }
   ],
   "source": [
    "#10. Write a Python program to calculate the grade based on a student's score.\n",
    "Marks = 66 # in percent \n",
    "\n",
    "if Marks > 80:\n",
    "    if Marks > 90:\n",
    "        print(\"you are getting A+ grade \")\n",
    "    else:\n",
    "        print(\"you are getting A grade \")\n",
    "else:\n",
    "    if Marks >=70:\n",
    "        print(\"you are getting B\")\n",
    "    else:\n",
    "        print(\"you are getting C\")\n",
    "        "
   ]
  },
  {
   "cell_type": "code",
   "execution_count": null,
   "id": "2ea12f4a-e159-466b-9e23-95adf908ad7c",
   "metadata": {},
   "outputs": [],
   "source": []
  }
 ],
 "metadata": {
  "kernelspec": {
   "display_name": "Python 3 (ipykernel)",
   "language": "python",
   "name": "python3"
  },
  "language_info": {
   "codemirror_mode": {
    "name": "ipython",
    "version": 3
   },
   "file_extension": ".py",
   "mimetype": "text/x-python",
   "name": "python",
   "nbconvert_exporter": "python",
   "pygments_lexer": "ipython3",
   "version": "3.10.8"
  }
 },
 "nbformat": 4,
 "nbformat_minor": 5
}
